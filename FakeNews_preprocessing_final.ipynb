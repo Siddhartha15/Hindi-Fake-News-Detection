{
  "nbformat": 4,
  "nbformat_minor": 0,
  "metadata": {
    "colab": {
      "name": "FakeNews-preprocessing-final.ipynb",
      "provenance": [],
      "collapsed_sections": []
    },
    "kernelspec": {
      "name": "python3",
      "display_name": "Python 3"
    },
    "accelerator": "GPU"
  },
  "cells": [
    {
      "cell_type": "code",
      "metadata": {
        "id": "jTjFP-zLaoBB",
        "colab": {
          "base_uri": "https://localhost:8080/"
        },
        "outputId": "cbcb676e-2f42-499f-d1bb-ba3c00a994d8"
      },
      "source": [
        "!git clone https://github.com/Jelwin13afc/FakeNewsDetection"
      ],
      "execution_count": null,
      "outputs": [
        {
          "output_type": "stream",
          "text": [
            "Cloning into 'FakeNewsDetection'...\n",
            "remote: Enumerating objects: 26, done.\u001b[K\n",
            "remote: Counting objects: 100% (26/26), done.\u001b[K\n",
            "remote: Compressing objects: 100% (22/22), done.\u001b[K\n",
            "remote: Total 26 (delta 12), reused 10 (delta 4), pack-reused 0\u001b[K\n",
            "Unpacking objects: 100% (26/26), done.\n"
          ],
          "name": "stdout"
        }
      ]
    },
    {
      "cell_type": "code",
      "metadata": {
        "id": "W1fbeq1uaxYt"
      },
      "source": [
        "import json\n",
        "import pandas as pd\n",
        "import re\n",
        "with open('/content/FakeNewsDetection/fake_news-all.json') as f:\n",
        "  fake_news = json.load(f)\n",
        "  #json to dataframe\n",
        "  fake_news = pd.json_normalize(fake_news,'fake_news')\n",
        "  f.close()\n",
        "\n",
        "with open('/content/FakeNewsDetection/true_news_all_dirty.json') as f:\n",
        "  true_news = json.load(f)\n",
        "  #json to dataframe\n",
        "  true_news = pd.json_normalize(true_news,'true_news')\n",
        "  f.close()\n"
      ],
      "execution_count": null,
      "outputs": []
    },
    {
      "cell_type": "code",
      "metadata": {
        "colab": {
          "base_uri": "https://localhost:8080/"
        },
        "id": "mXCaXDOOa0zD",
        "outputId": "b3408ace-d319-416f-a118-d8e11c35e579"
      },
      "source": [
        "# look for null values\n",
        "fake_news.isnull().sum(axis = 0)"
      ],
      "execution_count": null,
      "outputs": [
        {
          "output_type": "execute_result",
          "data": {
            "text/plain": [
              "url                  0\n",
              "short_description    0\n",
              "full_title           5\n",
              "long_description     9\n",
              "dtype: int64"
            ]
          },
          "metadata": {
            "tags": []
          },
          "execution_count": 4
        }
      ]
    },
    {
      "cell_type": "code",
      "metadata": {
        "colab": {
          "base_uri": "https://localhost:8080/"
        },
        "id": "r7AD5wqGa4A2",
        "outputId": "858f59c8-3786-4f55-f80d-a48fd53f1af4"
      },
      "source": [
        "# look for null values\n",
        "true_news.isnull().sum(axis = 0)"
      ],
      "execution_count": null,
      "outputs": [
        {
          "output_type": "execute_result",
          "data": {
            "text/plain": [
              "name                  0\n",
              "url                 120\n",
              "short_desc          133\n",
              "full_title          450\n",
              "long_description    450\n",
              "dtype: int64"
            ]
          },
          "metadata": {
            "tags": []
          },
          "execution_count": 5
        }
      ]
    },
    {
      "cell_type": "code",
      "metadata": {
        "id": "McXNXtdHa6yO"
      },
      "source": [
        "true_news = true_news.rename(columns={'short_desc': 'short_description'})"
      ],
      "execution_count": null,
      "outputs": []
    },
    {
      "cell_type": "code",
      "metadata": {
        "colab": {
          "base_uri": "https://localhost:8080/",
          "height": 580
        },
        "id": "HbHzMvbha-YW",
        "outputId": "abb21a15-0817-40d7-89d5-1c2eab186a2c"
      },
      "source": [
        "true_news"
      ],
      "execution_count": null,
      "outputs": [
        {
          "output_type": "execute_result",
          "data": {
            "text/html": [
              "<div>\n",
              "<style scoped>\n",
              "    .dataframe tbody tr th:only-of-type {\n",
              "        vertical-align: middle;\n",
              "    }\n",
              "\n",
              "    .dataframe tbody tr th {\n",
              "        vertical-align: top;\n",
              "    }\n",
              "\n",
              "    .dataframe thead th {\n",
              "        text-align: right;\n",
              "    }\n",
              "</style>\n",
              "<table border=\"1\" class=\"dataframe\">\n",
              "  <thead>\n",
              "    <tr style=\"text-align: right;\">\n",
              "      <th></th>\n",
              "      <th>name</th>\n",
              "      <th>url</th>\n",
              "      <th>short_description</th>\n",
              "      <th>full_title</th>\n",
              "      <th>long_description</th>\n",
              "    </tr>\n",
              "  </thead>\n",
              "  <tbody>\n",
              "    <tr>\n",
              "      <th>0</th>\n",
              "      <td>मोहम्मद सिराज ने हाल में पिता को खो दिया था ले...</td>\n",
              "      <td>https://www.bbc.com/hindi/media-55737672</td>\n",
              "      <td>भारत ने ऑस्ट्रेलिया में टेस्ट सिरीज़ में ऐतिहा...</td>\n",
              "      <td>NaN</td>\n",
              "      <td>NaN</td>\n",
              "    </tr>\n",
              "    <tr>\n",
              "      <th>1</th>\n",
              "      <td>ब्रिसबेन टेस्ट का वो पल जब पुजारा के पापा डर ग...</td>\n",
              "      <td>https://www.bbc.com/hindi/media-55737709</td>\n",
              "      <td>ब्रिस्बेन टेस्ट में भारत की दीवार कहे जाने वाल...</td>\n",
              "      <td>NaN</td>\n",
              "      <td>NaN</td>\n",
              "    </tr>\n",
              "    <tr>\n",
              "      <th>2</th>\n",
              "      <td>पाकिस्तान के टीवी एंकर इक़रारुल हसन ने भारत की...</td>\n",
              "      <td>https://www.bbc.com/hindi/media-55737716</td>\n",
              "      <td>पाकिस्तानी टीवी प्रेजेंटर सैय्यद इक़रारुल हसन ...</td>\n",
              "      <td>NaN</td>\n",
              "      <td>NaN</td>\n",
              "    </tr>\n",
              "    <tr>\n",
              "      <th>3</th>\n",
              "      <td>कहां हुई थी पहली गणतंत्र दिवस परेड</td>\n",
              "      <td>https://www.bbc.com/hindi/india-38748043</td>\n",
              "      <td>किसी से पूछा जाए कि दिल्ली में पहली गणतंत्र दि...</td>\n",
              "      <td>26 जनवरी: गणतंत्र दिवस की पहली परेड कहां हुई थी</td>\n",
              "      <td>26 जनवरी: गणतंत्र दिवस की पहली परेड कहां हुई थ...</td>\n",
              "    </tr>\n",
              "    <tr>\n",
              "      <th>4</th>\n",
              "      <td>कार्टून: सख़्त ज़रूरत है</td>\n",
              "      <td>https://www.bbc.com/hindi/india-55735666</td>\n",
              "      <td>वेब सिरीज़ तांडव को लेकर जारी विवाद पर आज का क...</td>\n",
              "      <td>कार्टून: सख़्त ज़रूरत है</td>\n",
              "      <td>कार्टून: सख़्त ज़रूरत है\\n4 घंटे पहले\\nइमेज स्...</td>\n",
              "    </tr>\n",
              "    <tr>\n",
              "      <th>...</th>\n",
              "      <td>...</td>\n",
              "      <td>...</td>\n",
              "      <td>...</td>\n",
              "      <td>...</td>\n",
              "      <td>...</td>\n",
              "    </tr>\n",
              "    <tr>\n",
              "      <th>888</th>\n",
              "      <td>ब्रह्मोस एक्सटेंडड रेंज सुपरसोनिक क्रूज़ मिसाइ...</td>\n",
              "      <td>https://www.bbc.com/hindi/media-54552314</td>\n",
              "      <td>ये मिसाइल 400 किलोमीटर से ज़्यादा मार कर सकती है.</td>\n",
              "      <td>NaN</td>\n",
              "      <td>NaN</td>\n",
              "    </tr>\n",
              "    <tr>\n",
              "      <th>889</th>\n",
              "      <td>भोलू पहलवानों को भारत क्यों नहीं आने दिया था?</td>\n",
              "      <td>https://www.bbc.com/hindi/media-54552290</td>\n",
              "      <td>आकर्षण का केंद्र वो शक्तिशाली पहलवान होते थे, ...</td>\n",
              "      <td>NaN</td>\n",
              "      <td>NaN</td>\n",
              "    </tr>\n",
              "    <tr>\n",
              "      <th>890</th>\n",
              "      <td>बिहार: जातीय समीकरणों और बीजेपी के हिंदुत्व का...</td>\n",
              "      <td>https://www.bbc.com/hindi/india-54544192</td>\n",
              "      <td>बिहार के जातिगत समीकरणों की बात बहुत होती है, ...</td>\n",
              "      <td>NaN</td>\n",
              "      <td>NaN</td>\n",
              "    </tr>\n",
              "    <tr>\n",
              "      <th>891</th>\n",
              "      <td>स्टेन स्वामी: सबसे बुजुर्ग शख़्स जिन पर लगा आत...</td>\n",
              "      <td>https://www.bbc.com/hindi/india-54520759</td>\n",
              "      <td>एनआईए ने 83 साल के फ़ादर स्टेन स्वामी को गिरफ़...</td>\n",
              "      <td>NaN</td>\n",
              "      <td>NaN</td>\n",
              "    </tr>\n",
              "    <tr>\n",
              "      <th>892</th>\n",
              "      <td>चीन के साथ संघर्ष हुआ तो भारत का कितना साथ देग...</td>\n",
              "      <td>https://www.bbc.com/hindi/media-54536297</td>\n",
              "      <td>NaN</td>\n",
              "      <td>NaN</td>\n",
              "      <td>NaN</td>\n",
              "    </tr>\n",
              "  </tbody>\n",
              "</table>\n",
              "<p>893 rows × 5 columns</p>\n",
              "</div>"
            ],
            "text/plain": [
              "                                                  name  ...                                   long_description\n",
              "0    मोहम्मद सिराज ने हाल में पिता को खो दिया था ले...  ...                                                NaN\n",
              "1    ब्रिसबेन टेस्ट का वो पल जब पुजारा के पापा डर ग...  ...                                                NaN\n",
              "2    पाकिस्तान के टीवी एंकर इक़रारुल हसन ने भारत की...  ...                                                NaN\n",
              "3                   कहां हुई थी पहली गणतंत्र दिवस परेड  ...  26 जनवरी: गणतंत्र दिवस की पहली परेड कहां हुई थ...\n",
              "4                             कार्टून: सख़्त ज़रूरत है  ...  कार्टून: सख़्त ज़रूरत है\\n4 घंटे पहले\\nइमेज स्...\n",
              "..                                                 ...  ...                                                ...\n",
              "888  ब्रह्मोस एक्सटेंडड रेंज सुपरसोनिक क्रूज़ मिसाइ...  ...                                                NaN\n",
              "889      भोलू पहलवानों को भारत क्यों नहीं आने दिया था?  ...                                                NaN\n",
              "890  बिहार: जातीय समीकरणों और बीजेपी के हिंदुत्व का...  ...                                                NaN\n",
              "891  स्टेन स्वामी: सबसे बुजुर्ग शख़्स जिन पर लगा आत...  ...                                                NaN\n",
              "892  चीन के साथ संघर्ष हुआ तो भारत का कितना साथ देग...  ...                                                NaN\n",
              "\n",
              "[893 rows x 5 columns]"
            ]
          },
          "metadata": {
            "tags": []
          },
          "execution_count": 7
        }
      ]
    },
    {
      "cell_type": "code",
      "metadata": {
        "colab": {
          "base_uri": "https://localhost:8080/",
          "height": 580
        },
        "id": "ayPsBnCcbDKA",
        "outputId": "f136d24e-310a-49cc-a43e-d386789bc4ac"
      },
      "source": [
        "fake_news"
      ],
      "execution_count": null,
      "outputs": [
        {
          "output_type": "execute_result",
          "data": {
            "text/html": [
              "<div>\n",
              "<style scoped>\n",
              "    .dataframe tbody tr th:only-of-type {\n",
              "        vertical-align: middle;\n",
              "    }\n",
              "\n",
              "    .dataframe tbody tr th {\n",
              "        vertical-align: top;\n",
              "    }\n",
              "\n",
              "    .dataframe thead th {\n",
              "        text-align: right;\n",
              "    }\n",
              "</style>\n",
              "<table border=\"1\" class=\"dataframe\">\n",
              "  <thead>\n",
              "    <tr style=\"text-align: right;\">\n",
              "      <th></th>\n",
              "      <th>url</th>\n",
              "      <th>short_description</th>\n",
              "      <th>full_title</th>\n",
              "      <th>long_description</th>\n",
              "    </tr>\n",
              "  </thead>\n",
              "  <tbody>\n",
              "    <tr>\n",
              "      <th>0</th>\n",
              "      <td>https://hindi.boomlive.in/fact-check/imran-kha...</td>\n",
              "      <td>बूम ने पाया कि इमरान खान भारत सरकार की आलोचना ...</td>\n",
              "      <td>इमरान खान के क्रॉप्ड वीडियो का दावा- भारत में ...</td>\n",
              "      <td>A video is viral with the claim that Pakistan ...</td>\n",
              "    </tr>\n",
              "    <tr>\n",
              "      <th>1</th>\n",
              "      <td>https://hindi.boomlive.in/fact-check/hindi-imp...</td>\n",
              "      <td>सिख समुदाय के कुछ लोगों को हिंदी साइन बोर्ड पर...</td>\n",
              "      <td>हिंदी में लिखे साइन बोर्ड पर कालिख पोतने की ये...</td>\n",
              "      <td>सिख समुदाय के कुछ लोगों को हिंदी साइन बोर्ड पर...</td>\n",
              "    </tr>\n",
              "    <tr>\n",
              "      <th>2</th>\n",
              "      <td>https://hindi.boomlive.in/fact-check/pm-narend...</td>\n",
              "      <td>सोशल मीडिया प्लेटफ़ॉर्म फ़ेसबुक और ट्विटर पर इस ...</td>\n",
              "      <td>जनसंख्या नियंत्रण क़ानून के दावे के साथ पीएम मो...</td>\n",
              "      <td>प्रधानमंत्री नरेंद्र मोदी की एक़ तस्वीर सोशल मी...</td>\n",
              "    </tr>\n",
              "    <tr>\n",
              "      <th>3</th>\n",
              "      <td>https://hindi.boomlive.in/fact-check/rajnath-s...</td>\n",
              "      <td>दावा है कि भाजपा के नेताओं ने माना है कि सरकार...</td>\n",
              "      <td>राजनाथ सिंह का दो साल पुराना वीडियो फिर हुआ वायरल</td>\n",
              "      <td>NaN</td>\n",
              "    </tr>\n",
              "    <tr>\n",
              "      <th>4</th>\n",
              "      <td>https://hindi.boomlive.in/fact-check/balakot-s...</td>\n",
              "      <td>मीडिया आउटलेट्स और वायर एजेंसी ने गलत तरीके से...</td>\n",
              "      <td>ए.एन.आई, अन्य मीडिया संस्थानों ने बालाकोट पर क...</td>\n",
              "      <td>न्यूज़ संस्थान एशियन न्यूज़ इंटरनेशनल के साथ साथ...</td>\n",
              "    </tr>\n",
              "    <tr>\n",
              "      <th>...</th>\n",
              "      <td>...</td>\n",
              "      <td>...</td>\n",
              "      <td>...</td>\n",
              "      <td>...</td>\n",
              "    </tr>\n",
              "    <tr>\n",
              "      <th>1245</th>\n",
              "      <td>https://hindi.boomlive.in/%E0%A4%AD%E0%A4%BE%E...</td>\n",
              "      <td>भारतीय पहलवान कविता देवी और बुल बुल के बीच हुए...</td>\n",
              "      <td>आरएसएस Vs पाकिस्तान: भारतीय महिला पहलवान कविता...</td>\n",
              "      <td>सोशल मीडिया पर एक फ्री स्टाइल महिला पहलवान का ...</td>\n",
              "    </tr>\n",
              "    <tr>\n",
              "      <th>1246</th>\n",
              "      <td>https://hindi.boomlive.in/%E0%A4%85%E0%A4%B8%E...</td>\n",
              "      <td>बूम से बात करते हुए एसबीआई अधिकारी ने बताया कि...</td>\n",
              "      <td>असम में एसबीआई एटीएम के नोटों को चूहों ने किया...</td>\n",
              "      <td>एटीएम मशीन के अंदर फटे नोटों की ये तस्वीर व्हा...</td>\n",
              "    </tr>\n",
              "    <tr>\n",
              "      <th>1247</th>\n",
              "      <td>https://hindi.boomlive.in/%E0%A4%AA%E0%A5%87%E...</td>\n",
              "      <td>बीजेपी सांसद परेश रावल एक बार फिर अपने फेक न्य...</td>\n",
              "      <td>पेट्रोल की कीमतों पर राहुल गांधी का फ़ेक ट्विट ...</td>\n",
              "      <td>अभिनेता से सांसद बने परेश रावल ट्विटर पर फेक न...</td>\n",
              "    </tr>\n",
              "    <tr>\n",
              "      <th>1248</th>\n",
              "      <td>https://hindi.boomlive.in/%E0%A4%95%E0%A4%B0%E...</td>\n",
              "      <td>मार्च से लेकर मई महीने में अचानक से एक्टिव हुई...</td>\n",
              "      <td>कर्नाटका चुनावों के दौरान एक्टिव फ़ेक न्यूज़ वेब...</td>\n",
              "      <td>कर्नाटक चुनाव के दौर में जो ढेरों वेबसाइटस देख...</td>\n",
              "    </tr>\n",
              "    <tr>\n",
              "      <th>1249</th>\n",
              "      <td>https://hindi.boomlive.in/%E0%A4%AC%E0%A4%BF%E...</td>\n",
              "      <td>स्वच्छ भारत मिशन के अधिकारियों के मुताबिक, साढ...</td>\n",
              "      <td>बिहार ने एक हफ्ते में साढ़े आठ लाख शौचालय बनाए...</td>\n",
              "      <td>प्रधानमंत्री नरेंद्र मोदी ने बिहार के मोतिहारी...</td>\n",
              "    </tr>\n",
              "  </tbody>\n",
              "</table>\n",
              "<p>1250 rows × 4 columns</p>\n",
              "</div>"
            ],
            "text/plain": [
              "                                                    url  ...                                   long_description\n",
              "0     https://hindi.boomlive.in/fact-check/imran-kha...  ...  A video is viral with the claim that Pakistan ...\n",
              "1     https://hindi.boomlive.in/fact-check/hindi-imp...  ...  सिख समुदाय के कुछ लोगों को हिंदी साइन बोर्ड पर...\n",
              "2     https://hindi.boomlive.in/fact-check/pm-narend...  ...  प्रधानमंत्री नरेंद्र मोदी की एक़ तस्वीर सोशल मी...\n",
              "3     https://hindi.boomlive.in/fact-check/rajnath-s...  ...                                                NaN\n",
              "4     https://hindi.boomlive.in/fact-check/balakot-s...  ...  न्यूज़ संस्थान एशियन न्यूज़ इंटरनेशनल के साथ साथ...\n",
              "...                                                 ...  ...                                                ...\n",
              "1245  https://hindi.boomlive.in/%E0%A4%AD%E0%A4%BE%E...  ...  सोशल मीडिया पर एक फ्री स्टाइल महिला पहलवान का ...\n",
              "1246  https://hindi.boomlive.in/%E0%A4%85%E0%A4%B8%E...  ...  एटीएम मशीन के अंदर फटे नोटों की ये तस्वीर व्हा...\n",
              "1247  https://hindi.boomlive.in/%E0%A4%AA%E0%A5%87%E...  ...  अभिनेता से सांसद बने परेश रावल ट्विटर पर फेक न...\n",
              "1248  https://hindi.boomlive.in/%E0%A4%95%E0%A4%B0%E...  ...  कर्नाटक चुनाव के दौर में जो ढेरों वेबसाइटस देख...\n",
              "1249  https://hindi.boomlive.in/%E0%A4%AC%E0%A4%BF%E...  ...  प्रधानमंत्री नरेंद्र मोदी ने बिहार के मोतिहारी...\n",
              "\n",
              "[1250 rows x 4 columns]"
            ]
          },
          "metadata": {
            "tags": []
          },
          "execution_count": 8
        }
      ]
    },
    {
      "cell_type": "code",
      "metadata": {
        "id": "sm65NC9jbE5Z"
      },
      "source": [
        "true_news=true_news.drop(['name','url'],axis=1)\n",
        "fake_news=fake_news.drop(['url'],axis=1)"
      ],
      "execution_count": null,
      "outputs": []
    },
    {
      "cell_type": "code",
      "metadata": {
        "id": "PlCE0so7W0qO"
      },
      "source": [
        "#addition - 13/3\n",
        "true_news=true_news.drop(['full_title','long_description',],axis=1)\n",
        "fake_news=fake_news.drop(['full_title', 'long_description'],axis=1)\n",
        "# true_news = true_news.dropna(subset=['short_description'])\n"
      ],
      "execution_count": null,
      "outputs": []
    },
    {
      "cell_type": "code",
      "metadata": {
        "colab": {
          "base_uri": "https://localhost:8080/",
          "height": 407
        },
        "id": "A_3d1GT0bJDe",
        "outputId": "0dc943be-701a-4f8d-ac3c-9f315cf5763d"
      },
      "source": [
        "fake_news=fake_news.dropna()\n",
        "true_news=true_news.dropna()\n",
        "true_news"
      ],
      "execution_count": null,
      "outputs": [
        {
          "output_type": "execute_result",
          "data": {
            "text/html": [
              "<div>\n",
              "<style scoped>\n",
              "    .dataframe tbody tr th:only-of-type {\n",
              "        vertical-align: middle;\n",
              "    }\n",
              "\n",
              "    .dataframe tbody tr th {\n",
              "        vertical-align: top;\n",
              "    }\n",
              "\n",
              "    .dataframe thead th {\n",
              "        text-align: right;\n",
              "    }\n",
              "</style>\n",
              "<table border=\"1\" class=\"dataframe\">\n",
              "  <thead>\n",
              "    <tr style=\"text-align: right;\">\n",
              "      <th></th>\n",
              "      <th>short_description</th>\n",
              "    </tr>\n",
              "  </thead>\n",
              "  <tbody>\n",
              "    <tr>\n",
              "      <th>0</th>\n",
              "      <td>भारत ने ऑस्ट्रेलिया में टेस्ट सिरीज़ में ऐतिहा...</td>\n",
              "    </tr>\n",
              "    <tr>\n",
              "      <th>1</th>\n",
              "      <td>ब्रिस्बेन टेस्ट में भारत की दीवार कहे जाने वाल...</td>\n",
              "    </tr>\n",
              "    <tr>\n",
              "      <th>2</th>\n",
              "      <td>पाकिस्तानी टीवी प्रेजेंटर सैय्यद इक़रारुल हसन ...</td>\n",
              "    </tr>\n",
              "    <tr>\n",
              "      <th>3</th>\n",
              "      <td>किसी से पूछा जाए कि दिल्ली में पहली गणतंत्र दि...</td>\n",
              "    </tr>\n",
              "    <tr>\n",
              "      <th>4</th>\n",
              "      <td>वेब सिरीज़ तांडव को लेकर जारी विवाद पर आज का क...</td>\n",
              "    </tr>\n",
              "    <tr>\n",
              "      <th>...</th>\n",
              "      <td>...</td>\n",
              "    </tr>\n",
              "    <tr>\n",
              "      <th>887</th>\n",
              "      <td>चालक ने कार रोकने के बजाय उसे चलाना जारी रखा. ...</td>\n",
              "    </tr>\n",
              "    <tr>\n",
              "      <th>888</th>\n",
              "      <td>ये मिसाइल 400 किलोमीटर से ज़्यादा मार कर सकती है.</td>\n",
              "    </tr>\n",
              "    <tr>\n",
              "      <th>889</th>\n",
              "      <td>आकर्षण का केंद्र वो शक्तिशाली पहलवान होते थे, ...</td>\n",
              "    </tr>\n",
              "    <tr>\n",
              "      <th>890</th>\n",
              "      <td>बिहार के जातिगत समीकरणों की बात बहुत होती है, ...</td>\n",
              "    </tr>\n",
              "    <tr>\n",
              "      <th>891</th>\n",
              "      <td>एनआईए ने 83 साल के फ़ादर स्टेन स्वामी को गिरफ़...</td>\n",
              "    </tr>\n",
              "  </tbody>\n",
              "</table>\n",
              "<p>760 rows × 1 columns</p>\n",
              "</div>"
            ],
            "text/plain": [
              "                                     short_description\n",
              "0    भारत ने ऑस्ट्रेलिया में टेस्ट सिरीज़ में ऐतिहा...\n",
              "1    ब्रिस्बेन टेस्ट में भारत की दीवार कहे जाने वाल...\n",
              "2    पाकिस्तानी टीवी प्रेजेंटर सैय्यद इक़रारुल हसन ...\n",
              "3    किसी से पूछा जाए कि दिल्ली में पहली गणतंत्र दि...\n",
              "4    वेब सिरीज़ तांडव को लेकर जारी विवाद पर आज का क...\n",
              "..                                                 ...\n",
              "887  चालक ने कार रोकने के बजाय उसे चलाना जारी रखा. ...\n",
              "888  ये मिसाइल 400 किलोमीटर से ज़्यादा मार कर सकती है.\n",
              "889  आकर्षण का केंद्र वो शक्तिशाली पहलवान होते थे, ...\n",
              "890  बिहार के जातिगत समीकरणों की बात बहुत होती है, ...\n",
              "891  एनआईए ने 83 साल के फ़ादर स्टेन स्वामी को गिरफ़...\n",
              "\n",
              "[760 rows x 1 columns]"
            ]
          },
          "metadata": {
            "tags": []
          },
          "execution_count": 11
        }
      ]
    },
    {
      "cell_type": "code",
      "metadata": {
        "id": "XD7pcLZovPep"
      },
      "source": [
        "pd.set_option('display.max_colwidth', None)"
      ],
      "execution_count": null,
      "outputs": []
    },
    {
      "cell_type": "code",
      "metadata": {
        "colab": {
          "base_uri": "https://localhost:8080/",
          "height": 198
        },
        "id": "EWAZ8X7MzFVi",
        "outputId": "79f08fa4-59aa-4956-e5ec-0673692d93d6"
      },
      "source": [
        "fake_news.head()"
      ],
      "execution_count": null,
      "outputs": [
        {
          "output_type": "execute_result",
          "data": {
            "text/html": [
              "<div>\n",
              "<style scoped>\n",
              "    .dataframe tbody tr th:only-of-type {\n",
              "        vertical-align: middle;\n",
              "    }\n",
              "\n",
              "    .dataframe tbody tr th {\n",
              "        vertical-align: top;\n",
              "    }\n",
              "\n",
              "    .dataframe thead th {\n",
              "        text-align: right;\n",
              "    }\n",
              "</style>\n",
              "<table border=\"1\" class=\"dataframe\">\n",
              "  <thead>\n",
              "    <tr style=\"text-align: right;\">\n",
              "      <th></th>\n",
              "      <th>short_description</th>\n",
              "    </tr>\n",
              "  </thead>\n",
              "  <tbody>\n",
              "    <tr>\n",
              "      <th>0</th>\n",
              "      <td>बूम ने पाया कि इमरान खान भारत सरकार की आलोचना कर रहे थे और वर्तमान शासन को अधिनायकवादी मुस्लिम विरोधी और पाकिस्तान</td>\n",
              "    </tr>\n",
              "    <tr>\n",
              "      <th>1</th>\n",
              "      <td>सिख समुदाय के कुछ लोगों को हिंदी साइन बोर्ड पर कालिख पोतते दिखाती तस्वीरों का सेट और एक वीडियो वायरल हो रहा है</td>\n",
              "    </tr>\n",
              "    <tr>\n",
              "      <th>2</th>\n",
              "      <td>सोशल मीडिया प्लेटफ़ॉर्म फ़ेसबुक और ट्विटर पर इस दावे के साथ बड़ी संख्या में तस्वीर के साथ पोस्ट शेयर किया जा रहा है।</td>\n",
              "    </tr>\n",
              "    <tr>\n",
              "      <th>3</th>\n",
              "      <td>दावा है कि भाजपा के नेताओं ने माना है कि सरकार जनता के साथ गलत कर रही है ।</td>\n",
              "    </tr>\n",
              "    <tr>\n",
              "      <th>4</th>\n",
              "      <td>मीडिया आउटलेट्स और वायर एजेंसी ने गलत तरीके से दावा किया कि पाकिस्तान के पूर्व राजनयिक ने बालाकोट में हुई मौतों की</td>\n",
              "    </tr>\n",
              "  </tbody>\n",
              "</table>\n",
              "</div>"
            ],
            "text/plain": [
              "                                                                                                    short_description\n",
              "0  बूम ने पाया कि इमरान खान भारत सरकार की आलोचना कर रहे थे और वर्तमान शासन को अधिनायकवादी मुस्लिम विरोधी और पाकिस्तान\n",
              "1      सिख समुदाय के कुछ लोगों को हिंदी साइन बोर्ड पर कालिख पोतते दिखाती तस्वीरों का सेट और एक वीडियो वायरल हो रहा है\n",
              "2   सोशल मीडिया प्लेटफ़ॉर्म फ़ेसबुक और ट्विटर पर इस दावे के साथ बड़ी संख्या में तस्वीर के साथ पोस्ट शेयर किया जा रहा है।\n",
              "3                                          दावा है कि भाजपा के नेताओं ने माना है कि सरकार जनता के साथ गलत कर रही है ।\n",
              "4  मीडिया आउटलेट्स और वायर एजेंसी ने गलत तरीके से दावा किया कि पाकिस्तान के पूर्व राजनयिक ने बालाकोट में हुई मौतों की"
            ]
          },
          "metadata": {
            "tags": []
          },
          "execution_count": 21
        }
      ]
    },
    {
      "cell_type": "code",
      "metadata": {
        "id": "AKYPMzcAbOVE"
      },
      "source": [
        "for i in list(true_news):\n",
        "  true_news[i]=true_news[i].str.replace('|', '')\n",
        "  true_news[i]=true_news[i].str.replace('?', '')\n",
        "  true_news[i]=true_news[i].str.replace(':', '')\n",
        "  true_news[i]=true_news[i].str.replace(';', '')\n",
        "  true_news[i]=true_news[i].str.replace(\"'\", '')\n",
        "  true_news[i]=true_news[i].str.replace('\"', '')\n",
        "  true_news[i]=true_news[i].str.replace(',', '')\n",
        "  true_news[i]=true_news[i].str.replace('.', '')\n",
        "  true_news[i]=true_news[i].str.replace('(', '')\n",
        "  true_news[i]=true_news[i].str.replace(')', '')\n",
        "  true_news[i]=true_news[i].str.replace('\\n', '')\n",
        "  true_news[i]=true_news[i].str.replace('&', '')"
      ],
      "execution_count": null,
      "outputs": []
    },
    {
      "cell_type": "code",
      "metadata": {
        "id": "sWZfdGvibUFo"
      },
      "source": [
        "for i in list(fake_news):\n",
        "  fake_news[i]=fake_news[i].str.replace('|', '')\n",
        "  fake_news[i]=fake_news[i].str.replace('?', '')\n",
        "  fake_news[i]=fake_news[i].str.replace(':', '')\n",
        "  fake_news[i]=fake_news[i].str.replace(';', '')\n",
        "  fake_news[i]=fake_news[i].str.replace(\"'\", '')\n",
        "  fake_news[i]=fake_news[i].str.replace('\"', '')\n",
        "  fake_news[i]=fake_news[i].str.replace(',', '')\n",
        "  fake_news[i]=fake_news[i].str.replace('.', '')\n",
        "  fake_news[i]=fake_news[i].str.replace('(', '')\n",
        "  fake_news[i]=fake_news[i].str.replace(')', '')\n",
        "  fake_news[i]=fake_news[i].str.replace('\\n', '')\n",
        "  fake_news[i]=fake_news[i].str.replace('&', '')\n",
        "  fake_news[i]=fake_news[i].str.replace('।', '')\n"
      ],
      "execution_count": null,
      "outputs": []
    },
    {
      "cell_type": "code",
      "metadata": {
        "colab": {
          "base_uri": "https://localhost:8080/",
          "height": 407
        },
        "id": "FKiEGU6ybYY1",
        "outputId": "6c837157-9097-4777-95b2-7293cbb415c4"
      },
      "source": [
        "true_news"
      ],
      "execution_count": null,
      "outputs": [
        {
          "output_type": "execute_result",
          "data": {
            "text/html": [
              "<div>\n",
              "<style scoped>\n",
              "    .dataframe tbody tr th:only-of-type {\n",
              "        vertical-align: middle;\n",
              "    }\n",
              "\n",
              "    .dataframe tbody tr th {\n",
              "        vertical-align: top;\n",
              "    }\n",
              "\n",
              "    .dataframe thead th {\n",
              "        text-align: right;\n",
              "    }\n",
              "</style>\n",
              "<table border=\"1\" class=\"dataframe\">\n",
              "  <thead>\n",
              "    <tr style=\"text-align: right;\">\n",
              "      <th></th>\n",
              "      <th>short_description</th>\n",
              "    </tr>\n",
              "  </thead>\n",
              "  <tbody>\n",
              "    <tr>\n",
              "      <th>0</th>\n",
              "      <td>भारत ने ऑस्ट्रेलिया में टेस्ट सिरीज़ में ऐतिहासिक जीत दर्ज की चौथे और निर्णायक मैच में नौजवान गेंदबाज़ मोहम्मद सिराज ने अहम भूमिका निभाई</td>\n",
              "    </tr>\n",
              "    <tr>\n",
              "      <th>1</th>\n",
              "      <td>ब्रिस्बेन टेस्ट में भारत की दीवार कहे जाने वाले चेतेश्वर पुजारा ने अर्धशतक जमाया पारी के दौरान वो चोटिल भी हुए और ऑस्ट्रेलियाई गेंदबाज़ों की कई गेंदे उनके शरीर पर लगीं</td>\n",
              "    </tr>\n",
              "    <tr>\n",
              "      <th>2</th>\n",
              "      <td>पाकिस्तानी टीवी प्रेजेंटर सैय्यद इक़रारुल हसन अपने कुछ ट्वीट के कारण निशाने पर आ गए उन्हें देशद्रोही तक कहा जाने लगा</td>\n",
              "    </tr>\n",
              "    <tr>\n",
              "      <th>3</th>\n",
              "      <td>किसी से पूछा जाए कि दिल्ली में पहली गणतंत्र दिवस परेड कहां हुई थी तो इसका जवाब वो राजपथ ही देगा लेकिन यह सही नहीं है</td>\n",
              "    </tr>\n",
              "    <tr>\n",
              "      <th>4</th>\n",
              "      <td>वेब सिरीज़ तांडव को लेकर जारी विवाद पर आज का कार्टून</td>\n",
              "    </tr>\n",
              "    <tr>\n",
              "      <th>...</th>\n",
              "      <td>...</td>\n",
              "    </tr>\n",
              "    <tr>\n",
              "      <th>887</th>\n",
              "      <td>चालक ने कार रोकने के बजाय उसे चलाना जारी रखा और एक ट्रैफ़िक पुलिसकर्मी कार के बॉनेट पर आ गया</td>\n",
              "    </tr>\n",
              "    <tr>\n",
              "      <th>888</th>\n",
              "      <td>ये मिसाइल 400 किलोमीटर से ज़्यादा मार कर सकती है</td>\n",
              "    </tr>\n",
              "    <tr>\n",
              "      <th>889</th>\n",
              "      <td>आकर्षण का केंद्र वो शक्तिशाली पहलवान होते थे जिनका संबंध प्रसिद्ध भोलू पहलवान परिवार से था दारुल सेहत को सब भोलू का अखाड़ा के नाम से जानते थे</td>\n",
              "    </tr>\n",
              "    <tr>\n",
              "      <th>890</th>\n",
              "      <td>बिहार के जातिगत समीकरणों की बात बहुत होती है लेकिन लंबे समय से बीजेपी हिंदू पहचान के आधार पर वोटरों को लामबंद करने में लगी है इसके साथ ही सोशल इंजीनियरिंग पर भी उसका ध्यान रहता है</td>\n",
              "    </tr>\n",
              "    <tr>\n",
              "      <th>891</th>\n",
              "      <td>एनआईए ने 83 साल के फ़ादर स्टेन स्वामी को गिरफ़्तार कर उन पर यूएपीए की धाराएँ लगाई हैं</td>\n",
              "    </tr>\n",
              "  </tbody>\n",
              "</table>\n",
              "<p>760 rows × 1 columns</p>\n",
              "</div>"
            ],
            "text/plain": [
              "                                                                                                                                                                       short_description\n",
              "0                                               भारत ने ऑस्ट्रेलिया में टेस्ट सिरीज़ में ऐतिहासिक जीत दर्ज की चौथे और निर्णायक मैच में नौजवान गेंदबाज़ मोहम्मद सिराज ने अहम भूमिका निभाई\n",
              "1                ब्रिस्बेन टेस्ट में भारत की दीवार कहे जाने वाले चेतेश्वर पुजारा ने अर्धशतक जमाया पारी के दौरान वो चोटिल भी हुए और ऑस्ट्रेलियाई गेंदबाज़ों की कई गेंदे उनके शरीर पर लगीं\n",
              "2                                                                   पाकिस्तानी टीवी प्रेजेंटर सैय्यद इक़रारुल हसन अपने कुछ ट्वीट के कारण निशाने पर आ गए उन्हें देशद्रोही तक कहा जाने लगा\n",
              "3                                                                   किसी से पूछा जाए कि दिल्ली में पहली गणतंत्र दिवस परेड कहां हुई थी तो इसका जवाब वो राजपथ ही देगा लेकिन यह सही नहीं है\n",
              "4                                                                                                                                   वेब सिरीज़ तांडव को लेकर जारी विवाद पर आज का कार्टून\n",
              "..                                                                                                                                                                                   ...\n",
              "887                                                                                         चालक ने कार रोकने के बजाय उसे चलाना जारी रखा और एक ट्रैफ़िक पुलिसकर्मी कार के बॉनेट पर आ गया\n",
              "888                                                                                                                                     ये मिसाइल 400 किलोमीटर से ज़्यादा मार कर सकती है\n",
              "889                                        आकर्षण का केंद्र वो शक्तिशाली पहलवान होते थे जिनका संबंध प्रसिद्ध भोलू पहलवान परिवार से था दारुल सेहत को सब भोलू का अखाड़ा के नाम से जानते थे\n",
              "890  बिहार के जातिगत समीकरणों की बात बहुत होती है लेकिन लंबे समय से बीजेपी हिंदू पहचान के आधार पर वोटरों को लामबंद करने में लगी है इसके साथ ही सोशल इंजीनियरिंग पर भी उसका ध्यान रहता है\n",
              "891                                                                                                एनआईए ने 83 साल के फ़ादर स्टेन स्वामी को गिरफ़्तार कर उन पर यूएपीए की धाराएँ लगाई हैं\n",
              "\n",
              "[760 rows x 1 columns]"
            ]
          },
          "metadata": {
            "tags": []
          },
          "execution_count": 27
        }
      ]
    },
    {
      "cell_type": "code",
      "metadata": {
        "colab": {
          "base_uri": "https://localhost:8080/",
          "height": 198
        },
        "id": "8S5n1jUJzKTj",
        "outputId": "24f4a993-63db-402a-ad7b-c6aba931cd3d"
      },
      "source": [
        "fake_news.head()"
      ],
      "execution_count": null,
      "outputs": [
        {
          "output_type": "execute_result",
          "data": {
            "text/html": [
              "<div>\n",
              "<style scoped>\n",
              "    .dataframe tbody tr th:only-of-type {\n",
              "        vertical-align: middle;\n",
              "    }\n",
              "\n",
              "    .dataframe tbody tr th {\n",
              "        vertical-align: top;\n",
              "    }\n",
              "\n",
              "    .dataframe thead th {\n",
              "        text-align: right;\n",
              "    }\n",
              "</style>\n",
              "<table border=\"1\" class=\"dataframe\">\n",
              "  <thead>\n",
              "    <tr style=\"text-align: right;\">\n",
              "      <th></th>\n",
              "      <th>short_description</th>\n",
              "    </tr>\n",
              "  </thead>\n",
              "  <tbody>\n",
              "    <tr>\n",
              "      <th>0</th>\n",
              "      <td>बूम ने पाया कि इमरान खान भारत सरकार की आलोचना कर रहे थे और वर्तमान शासन को अधिनायकवादी मुस्लिम विरोधी और पाकिस्तान</td>\n",
              "    </tr>\n",
              "    <tr>\n",
              "      <th>1</th>\n",
              "      <td>सिख समुदाय के कुछ लोगों को हिंदी साइन बोर्ड पर कालिख पोतते दिखाती तस्वीरों का सेट और एक वीडियो वायरल हो रहा है</td>\n",
              "    </tr>\n",
              "    <tr>\n",
              "      <th>2</th>\n",
              "      <td>सोशल मीडिया प्लेटफ़ॉर्म फ़ेसबुक और ट्विटर पर इस दावे के साथ बड़ी संख्या में तस्वीर के साथ पोस्ट शेयर किया जा रहा है</td>\n",
              "    </tr>\n",
              "    <tr>\n",
              "      <th>3</th>\n",
              "      <td>दावा है कि भाजपा के नेताओं ने माना है कि सरकार जनता के साथ गलत कर रही है</td>\n",
              "    </tr>\n",
              "    <tr>\n",
              "      <th>4</th>\n",
              "      <td>मीडिया आउटलेट्स और वायर एजेंसी ने गलत तरीके से दावा किया कि पाकिस्तान के पूर्व राजनयिक ने बालाकोट में हुई मौतों की</td>\n",
              "    </tr>\n",
              "  </tbody>\n",
              "</table>\n",
              "</div>"
            ],
            "text/plain": [
              "                                                                                                    short_description\n",
              "0  बूम ने पाया कि इमरान खान भारत सरकार की आलोचना कर रहे थे और वर्तमान शासन को अधिनायकवादी मुस्लिम विरोधी और पाकिस्तान\n",
              "1      सिख समुदाय के कुछ लोगों को हिंदी साइन बोर्ड पर कालिख पोतते दिखाती तस्वीरों का सेट और एक वीडियो वायरल हो रहा है\n",
              "2    सोशल मीडिया प्लेटफ़ॉर्म फ़ेसबुक और ट्विटर पर इस दावे के साथ बड़ी संख्या में तस्वीर के साथ पोस्ट शेयर किया जा रहा है\n",
              "3                                           दावा है कि भाजपा के नेताओं ने माना है कि सरकार जनता के साथ गलत कर रही है \n",
              "4  मीडिया आउटलेट्स और वायर एजेंसी ने गलत तरीके से दावा किया कि पाकिस्तान के पूर्व राजनयिक ने बालाकोट में हुई मौतों की"
            ]
          },
          "metadata": {
            "tags": []
          },
          "execution_count": 28
        }
      ]
    },
    {
      "cell_type": "markdown",
      "metadata": {
        "id": "L6emDgw7zA_h"
      },
      "source": [
        "**Stemming**"
      ]
    },
    {
      "cell_type": "code",
      "metadata": {
        "id": "3vOERPgPbaPe"
      },
      "source": [
        "suffixes = {\n",
        "    1: [\"ो\", \"े\", \"ू\", \"ु\", \"ी\", \"ि\", \"ा\"],\n",
        "    2: [\"कर\", \"ाओ\", \"िए\", \"ाई\", \"ाए\", \"ने\", \"नी\", \"ना\", \"ते\", \"ीं\", \"ती\", \"ता\", \"ाँ\", \"ां\", \"ों\", \"ें\"],\n",
        "    3: [\"ाकर\", \"ाइए\", \"ाईं\", \"ाया\", \"ेगी\", \"ेगा\", \"ोगी\", \"ोगे\", \"ाने\", \"ाना\", \"ाते\", \"ाती\", \"ाता\", \"तीं\", \"ाओं\", \"ाएं\", \"ुओं\", \"ुएं\", \"ुआं\"],\n",
        "    4: [\"ाएगी\", \"ाएगा\", \"ाओगी\", \"ाओगे\", \"एंगी\", \"ेंगी\", \"एंगे\", \"ेंगे\", \"ूंगी\", \"ूंगा\", \"ातीं\", \"नाओं\", \"नाएं\", \"ताओं\", \"ताएं\", \"ियाँ\", \"ियों\", \"ियां\"],\n",
        "    5: [\"ाएंगी\", \"ाएंगे\", \"ाऊंगी\", \"ाऊंगा\", \"ाइयाँ\", \"ाइयों\", \"ाइयां\"],\n",
        "}\n",
        "\n",
        "def hi_stem(word):\n",
        "    for L in 5, 4, 3, 2, 1:\n",
        "        if len(word) > L + 1:\n",
        "            for suf in suffixes[L]:\n",
        "                if word.endswith(suf):\n",
        "                    return word[:-L]\n",
        "    return word"
      ],
      "execution_count": null,
      "outputs": []
    },
    {
      "cell_type": "code",
      "metadata": {
        "id": "ZYqex5zODxFC"
      },
      "source": [
        "id=list(fake_news.index)\n",
        "id1=list(true_news.index)"
      ],
      "execution_count": null,
      "outputs": []
    },
    {
      "cell_type": "code",
      "metadata": {
        "id": "_zXsyVvifRxq"
      },
      "source": [
        "str_temp=\"\"\n",
        "count=0\n",
        "for i in list(fake_news):\n",
        "  count=0\n",
        "  for j in list(fake_news[i]):\n",
        "    for words in j.split():\n",
        "      str_temp+=hi_stem(words)\n",
        "      str_temp+=\" \"\n",
        "    fake_news.loc[id[count],i]=str_temp\n",
        "    str_temp=\"\"\n",
        "    count+=1\n",
        "\n",
        "    "
      ],
      "execution_count": null,
      "outputs": []
    },
    {
      "cell_type": "code",
      "metadata": {
        "id": "tzHoPbEFET8H"
      },
      "source": [
        "str_temp=\"\"\n",
        "count=0\n",
        "for i in list(true_news):\n",
        "  count=0\n",
        "  for j in list(true_news[i]):\n",
        "    for words in j.split():\n",
        "      str_temp+=hi_stem(words)\n",
        "      str_temp+=\" \"\n",
        "    true_news.loc[id1[count],i]=str_temp\n",
        "    str_temp=\"\"\n",
        "    count+=1"
      ],
      "execution_count": null,
      "outputs": []
    },
    {
      "cell_type": "code",
      "metadata": {
        "colab": {
          "base_uri": "https://localhost:8080/",
          "height": 198
        },
        "id": "l4Cz-xlEwCd6",
        "outputId": "eef415ef-aea2-435c-ebf5-df3f6584cb78"
      },
      "source": [
        "fake_news.head()\n",
        "  "
      ],
      "execution_count": null,
      "outputs": [
        {
          "output_type": "execute_result",
          "data": {
            "text/html": [
              "<div>\n",
              "<style scoped>\n",
              "    .dataframe tbody tr th:only-of-type {\n",
              "        vertical-align: middle;\n",
              "    }\n",
              "\n",
              "    .dataframe tbody tr th {\n",
              "        vertical-align: top;\n",
              "    }\n",
              "\n",
              "    .dataframe thead th {\n",
              "        text-align: right;\n",
              "    }\n",
              "</style>\n",
              "<table border=\"1\" class=\"dataframe\">\n",
              "  <thead>\n",
              "    <tr style=\"text-align: right;\">\n",
              "      <th></th>\n",
              "      <th>short_description</th>\n",
              "    </tr>\n",
              "  </thead>\n",
              "  <tbody>\n",
              "    <tr>\n",
              "      <th>0</th>\n",
              "      <td>बूम ने पाय कि इमरान खान भारत सरकार की आलोच कर रह थे और वर्तमान शासन को अधिनायकवाद मुस्लिम विरोध और पाकिस्तान</td>\n",
              "    </tr>\n",
              "    <tr>\n",
              "      <th>1</th>\n",
              "      <td>सिख समुदाय के कुछ लोग को हिंद साइन बोर्ड पर कालिख पोत दिख तस्वीर का सेट और एक वीडिय वायरल हो रह है</td>\n",
              "    </tr>\n",
              "    <tr>\n",
              "      <th>2</th>\n",
              "      <td>सोशल मीडिय प्लेटफ़ॉर्म फ़ेसबुक और ट्विटर पर इस दाव के साथ बड़ संख्य में तस्वीर के साथ पोस्ट शेयर किय जा रह है</td>\n",
              "    </tr>\n",
              "    <tr>\n",
              "      <th>3</th>\n",
              "      <td>दाव है कि भाजप के ने ने मा है कि सरकार जन के साथ गलत कर रह है</td>\n",
              "    </tr>\n",
              "    <tr>\n",
              "      <th>4</th>\n",
              "      <td>मीडिय आउटलेट्स और वायर एजेंस ने गलत तरीक से दाव किय कि पाकिस्तान के पूर्व राजनयिक ने बालाकोट में हुई मौत की</td>\n",
              "    </tr>\n",
              "  </tbody>\n",
              "</table>\n",
              "</div>"
            ],
            "text/plain": [
              "                                                                                               short_description\n",
              "0  बूम ने पाय कि इमरान खान भारत सरकार की आलोच कर रह थे और वर्तमान शासन को अधिनायकवाद मुस्लिम विरोध और पाकिस्तान \n",
              "1            सिख समुदाय के कुछ लोग को हिंद साइन बोर्ड पर कालिख पोत दिख तस्वीर का सेट और एक वीडिय वायरल हो रह है \n",
              "2    सोशल मीडिय प्लेटफ़ॉर्म फ़ेसबुक और ट्विटर पर इस दाव के साथ बड़ संख्य में तस्वीर के साथ पोस्ट शेयर किय जा रह है \n",
              "3                                                 दाव है कि भाजप के ने ने मा है कि सरकार जन के साथ गलत कर रह है \n",
              "4   मीडिय आउटलेट्स और वायर एजेंस ने गलत तरीक से दाव किय कि पाकिस्तान के पूर्व राजनयिक ने बालाकोट में हुई मौत की "
            ]
          },
          "metadata": {
            "tags": []
          },
          "execution_count": 33
        }
      ]
    },
    {
      "cell_type": "code",
      "metadata": {
        "colab": {
          "base_uri": "https://localhost:8080/",
          "height": 407
        },
        "id": "BSwVRlqL30Q3",
        "outputId": "b7a8efe0-ce95-4e9d-fd88-095adb4865f9"
      },
      "source": [
        "true_news"
      ],
      "execution_count": null,
      "outputs": [
        {
          "output_type": "execute_result",
          "data": {
            "text/html": [
              "<div>\n",
              "<style scoped>\n",
              "    .dataframe tbody tr th:only-of-type {\n",
              "        vertical-align: middle;\n",
              "    }\n",
              "\n",
              "    .dataframe tbody tr th {\n",
              "        vertical-align: top;\n",
              "    }\n",
              "\n",
              "    .dataframe thead th {\n",
              "        text-align: right;\n",
              "    }\n",
              "</style>\n",
              "<table border=\"1\" class=\"dataframe\">\n",
              "  <thead>\n",
              "    <tr style=\"text-align: right;\">\n",
              "      <th></th>\n",
              "      <th>short_description</th>\n",
              "    </tr>\n",
              "  </thead>\n",
              "  <tbody>\n",
              "    <tr>\n",
              "      <th>0</th>\n",
              "      <td>भारत ने ऑस्ट्रेलिय में टेस्ट सिरीज़ में ऐतिहासिक जीत दर्ज की चौथ और निर्णायक मैच में नौजवान गेंदबाज़ मोहम्मद सिराज ने अहम भूमिक निभ</td>\n",
              "    </tr>\n",
              "    <tr>\n",
              "      <th>1</th>\n",
              "      <td>ब्रिस्बेन टेस्ट में भारत की दीवार कह जा वाल चेतेश्वर पुजार ने अर्धशतक जम पार के दौरान वो चोटिल भी हुए और ऑस्ट्रेलिय गेंदबाज़ की कई गेंद उनक शरीर पर लग</td>\n",
              "    </tr>\n",
              "    <tr>\n",
              "      <th>2</th>\n",
              "      <td>पाकिस्ता टीव प्रेजेंटर सैय्यद इक़रारुल हसन अप कुछ ट्वीट के कारण निश पर आ गए उन्ह देशद्रोह तक कह जा लग</td>\n",
              "    </tr>\n",
              "    <tr>\n",
              "      <th>3</th>\n",
              "      <td>किस से पूछ जाए कि दिल्ल में पहल गणतंत्र दिवस परेड कह हुई थी तो इसक जवाब वो राजपथ ही देग लेकिन यह सह नह है</td>\n",
              "    </tr>\n",
              "    <tr>\n",
              "      <th>4</th>\n",
              "      <td>वेब सिरीज़ तांडव को ले जार विवाद पर आज का कार्टून</td>\n",
              "    </tr>\n",
              "    <tr>\n",
              "      <th>...</th>\n",
              "      <td>...</td>\n",
              "    </tr>\n",
              "    <tr>\n",
              "      <th>887</th>\n",
              "      <td>चालक ने कार रोक के बजाय उस चल जार रख और एक ट्रैफ़िक पुलिसकर्म कार के बॉनेट पर आ गय</td>\n",
              "    </tr>\n",
              "    <tr>\n",
              "      <th>888</th>\n",
              "      <td>ये मिसाइल 400 किलोमीटर से ज़्याद मार कर सक है</td>\n",
              "    </tr>\n",
              "    <tr>\n",
              "      <th>889</th>\n",
              "      <td>आकर्षण का केंद्र वो शक्तिशाल पहलवान हो थे जिनक संबंध प्रसिद्ध भोल पहलवान परिवार से था दारुल सेहत को सब भोल का अखाड़ के नाम से जान थे</td>\n",
              "    </tr>\n",
              "    <tr>\n",
              "      <th>890</th>\n",
              "      <td>बिहार के जातिगत समीकरण की बात बहुत हो है लेकिन लंब समय से बीजेप हिंद पहचान के आधार पर वोटर को लामबंद कर में लग है इसक साथ ही सोशल इंजीनियरिंग पर भी उसक ध्यान रह है</td>\n",
              "    </tr>\n",
              "    <tr>\n",
              "      <th>891</th>\n",
              "      <td>एनआईए ने 83 साल के फ़ादर स्टेन स्वाम को गिरफ़्तार कर उन पर यूएपीए की धाराएँ लग हैं</td>\n",
              "    </tr>\n",
              "  </tbody>\n",
              "</table>\n",
              "<p>760 rows × 1 columns</p>\n",
              "</div>"
            ],
            "text/plain": [
              "                                                                                                                                                        short_description\n",
              "0                                    भारत ने ऑस्ट्रेलिय में टेस्ट सिरीज़ में ऐतिहासिक जीत दर्ज की चौथ और निर्णायक मैच में नौजवान गेंदबाज़ मोहम्मद सिराज ने अहम भूमिक निभ \n",
              "1                 ब्रिस्बेन टेस्ट में भारत की दीवार कह जा वाल चेतेश्वर पुजार ने अर्धशतक जम पार के दौरान वो चोटिल भी हुए और ऑस्ट्रेलिय गेंदबाज़ की कई गेंद उनक शरीर पर लग \n",
              "2                                                                  पाकिस्ता टीव प्रेजेंटर सैय्यद इक़रारुल हसन अप कुछ ट्वीट के कारण निश पर आ गए उन्ह देशद्रोह तक कह जा लग \n",
              "3                                                              किस से पूछ जाए कि दिल्ल में पहल गणतंत्र दिवस परेड कह हुई थी तो इसक जवाब वो राजपथ ही देग लेकिन यह सह नह है \n",
              "4                                                                                                                      वेब सिरीज़ तांडव को ले जार विवाद पर आज का कार्टून \n",
              "..                                                                                                                                                                    ...\n",
              "887                                                                                   चालक ने कार रोक के बजाय उस चल जार रख और एक ट्रैफ़िक पुलिसकर्म कार के बॉनेट पर आ गय \n",
              "888                                                                                                                        ये मिसाइल 400 किलोमीटर से ज़्याद मार कर सक है \n",
              "889                                 आकर्षण का केंद्र वो शक्तिशाल पहलवान हो थे जिनक संबंध प्रसिद्ध भोल पहलवान परिवार से था दारुल सेहत को सब भोल का अखाड़ के नाम से जान थे \n",
              "890  बिहार के जातिगत समीकरण की बात बहुत हो है लेकिन लंब समय से बीजेप हिंद पहचान के आधार पर वोटर को लामबंद कर में लग है इसक साथ ही सोशल इंजीनियरिंग पर भी उसक ध्यान रह है \n",
              "891                                                                                   एनआईए ने 83 साल के फ़ादर स्टेन स्वाम को गिरफ़्तार कर उन पर यूएपीए की धाराएँ लग हैं \n",
              "\n",
              "[760 rows x 1 columns]"
            ]
          },
          "metadata": {
            "tags": []
          },
          "execution_count": 34
        }
      ]
    },
    {
      "cell_type": "markdown",
      "metadata": {
        "id": "OBNaJHfGzJ1k"
      },
      "source": [
        "**Stop words removal**"
      ]
    },
    {
      "cell_type": "code",
      "metadata": {
        "id": "Xxruk5ZeFbfq"
      },
      "source": [
        "stop=open('/content/FakeNewsDetection/final_stopwords.txt')\n",
        "stopwords=[]\n",
        "for x in stop:\n",
        "  x = x.replace('\\n', '')\n",
        "  stopwords.append(x)"
      ],
      "execution_count": null,
      "outputs": []
    },
    {
      "cell_type": "code",
      "metadata": {
        "colab": {
          "base_uri": "https://localhost:8080/"
        },
        "id": "CPlIpzV7Fcyv",
        "outputId": "0cf25cb6-d0c6-412c-cd79-d74c40c9f1a1"
      },
      "source": [
        "stopwords"
      ],
      "execution_count": null,
      "outputs": [
        {
          "output_type": "execute_result",
          "data": {
            "text/plain": [
              "['मैं',\n",
              " 'मुझको',\n",
              " 'मेरा',\n",
              " 'अपने आप को',\n",
              " 'हमने',\n",
              " 'हमारा',\n",
              " 'अपना',\n",
              " 'हम',\n",
              " 'आप',\n",
              " 'आपका',\n",
              " 'तुम्हारा',\n",
              " 'अपने आप',\n",
              " 'स्वयं',\n",
              " 'वह',\n",
              " 'इसे',\n",
              " 'उसके',\n",
              " 'खुद को',\n",
              " 'कि वह',\n",
              " 'उसकी',\n",
              " 'उसका',\n",
              " 'खुद ही',\n",
              " 'यह',\n",
              " 'इसके',\n",
              " 'उन्होने',\n",
              " 'अपने',\n",
              " 'क्या',\n",
              " 'जो',\n",
              " 'किसे',\n",
              " 'किसको',\n",
              " 'कि',\n",
              " 'ये',\n",
              " 'हूँ',\n",
              " 'होता है',\n",
              " 'रहे',\n",
              " 'थी',\n",
              " 'थे',\n",
              " 'होना',\n",
              " 'गया',\n",
              " 'किया जा रहा है',\n",
              " 'किया है',\n",
              " 'है',\n",
              " 'पडा',\n",
              " 'होने',\n",
              " 'करना',\n",
              " 'करता है',\n",
              " 'किया',\n",
              " 'रही',\n",
              " 'एक',\n",
              " 'लेकिन',\n",
              " 'अगर',\n",
              " 'या',\n",
              " 'क्यूंकि',\n",
              " 'जैसा',\n",
              " 'जब तक',\n",
              " 'जबकि',\n",
              " 'की',\n",
              " 'पर',\n",
              " 'द्वारा',\n",
              " 'के लिए',\n",
              " 'साथ',\n",
              " 'के बारे में',\n",
              " 'खिलाफ',\n",
              " 'बीच',\n",
              " 'में',\n",
              " 'के माध्यम से',\n",
              " 'दौरान',\n",
              " 'से पहले',\n",
              " 'के बाद',\n",
              " 'ऊपर',\n",
              " 'नीचे',\n",
              " 'को',\n",
              " 'से',\n",
              " 'तक',\n",
              " 'से नीचे',\n",
              " 'करने में',\n",
              " 'निकल',\n",
              " 'बंद',\n",
              " 'से अधिक',\n",
              " 'तहत',\n",
              " 'दुबारा',\n",
              " 'आगे',\n",
              " 'फिर',\n",
              " 'एक बार',\n",
              " 'यहाँ',\n",
              " 'वहाँ',\n",
              " 'कब',\n",
              " 'कहाँ',\n",
              " 'क्यों',\n",
              " 'कैसे',\n",
              " 'सारे',\n",
              " 'किसी',\n",
              " 'दोनो',\n",
              " 'प्रत्येक',\n",
              " 'ज्यादा',\n",
              " 'अधिकांश',\n",
              " 'अन्य',\n",
              " 'में कुछ',\n",
              " 'ऐसा',\n",
              " 'में कोई',\n",
              " 'मात्र',\n",
              " 'खुद',\n",
              " 'समान',\n",
              " 'इसलिए',\n",
              " 'बहुत',\n",
              " 'सकता',\n",
              " 'जायेंगे',\n",
              " 'जरा',\n",
              " 'चाहिए',\n",
              " 'अभी',\n",
              " 'और',\n",
              " 'कर दिया',\n",
              " 'रखें',\n",
              " 'का',\n",
              " 'हैं',\n",
              " 'इस',\n",
              " 'होता',\n",
              " 'करने',\n",
              " 'ने',\n",
              " 'बनी',\n",
              " 'तो',\n",
              " 'ही',\n",
              " 'हो',\n",
              " 'इसका',\n",
              " 'था',\n",
              " 'हुआ',\n",
              " 'वाले',\n",
              " 'बाद',\n",
              " 'लिए',\n",
              " 'सकते',\n",
              " 'इसमें',\n",
              " 'दो',\n",
              " 'वे',\n",
              " 'करते',\n",
              " 'कहा',\n",
              " 'वर्ग',\n",
              " 'कई',\n",
              " 'करें',\n",
              " 'होती',\n",
              " 'अपनी',\n",
              " 'उनके',\n",
              " 'यदि',\n",
              " 'हुई',\n",
              " 'जा',\n",
              " 'कहते',\n",
              " 'जब',\n",
              " 'होते',\n",
              " 'कोई',\n",
              " 'हुए',\n",
              " 'व',\n",
              " 'जैसे',\n",
              " 'सभी',\n",
              " 'करता',\n",
              " 'उनकी',\n",
              " 'तरह',\n",
              " 'उस',\n",
              " 'आदि',\n",
              " 'इसकी',\n",
              " 'उनका',\n",
              " 'इसी',\n",
              " 'पे',\n",
              " 'तथा',\n",
              " 'भी',\n",
              " 'परंतु',\n",
              " 'इन',\n",
              " 'कम',\n",
              " 'दूर',\n",
              " 'पूरे',\n",
              " 'गये',\n",
              " 'तुम',\n",
              " 'मै',\n",
              " 'यहां',\n",
              " 'हुये',\n",
              " 'कभी',\n",
              " 'अथवा',\n",
              " 'गयी',\n",
              " 'प्रति',\n",
              " 'जाता',\n",
              " 'इन्हें',\n",
              " 'गई',\n",
              " 'अब',\n",
              " 'जिसमें',\n",
              " 'लिया',\n",
              " 'बड़ा',\n",
              " 'जाती',\n",
              " 'तब',\n",
              " 'उसे',\n",
              " 'जाते',\n",
              " 'लेकर',\n",
              " 'बड़े',\n",
              " 'दूसरे',\n",
              " 'जाने',\n",
              " 'बाहर',\n",
              " 'स्थान',\n",
              " 'उन्हें ',\n",
              " 'गए',\n",
              " 'ऐसे',\n",
              " 'जिससे',\n",
              " 'समय',\n",
              " 'दोनों',\n",
              " 'किए',\n",
              " 'रहती',\n",
              " 'इनके',\n",
              " 'इनका',\n",
              " 'इनकी',\n",
              " 'सकती',\n",
              " 'आज',\n",
              " 'कल',\n",
              " 'जिन्हें',\n",
              " 'जिन्हों',\n",
              " 'तिन्हें',\n",
              " 'तिन्हों',\n",
              " 'किन्हों',\n",
              " 'किन्हें',\n",
              " 'इत्यादि',\n",
              " 'इन्हों',\n",
              " 'उन्हों',\n",
              " 'बिलकुल',\n",
              " 'निहायत',\n",
              " 'इन्हीं',\n",
              " 'उन्हीं',\n",
              " 'जितना',\n",
              " 'दूसरा',\n",
              " 'कितना',\n",
              " 'साबुत',\n",
              " 'वग़ैरह',\n",
              " 'कौनसा',\n",
              " 'लिये',\n",
              " 'दिया',\n",
              " 'जिसे',\n",
              " 'तिसे',\n",
              " 'काफ़ी',\n",
              " 'पहले',\n",
              " 'बाला',\n",
              " 'मानो',\n",
              " 'अंदर',\n",
              " 'भीतर',\n",
              " 'पूरा',\n",
              " 'सारा',\n",
              " 'उनको',\n",
              " 'वहीं',\n",
              " 'जहाँ',\n",
              " 'जीधर',\n",
              " '\\ufeffके',\n",
              " 'एवं',\n",
              " 'कुछ',\n",
              " 'कुल',\n",
              " 'रहा',\n",
              " 'जिस',\n",
              " 'जिन',\n",
              " 'तिस',\n",
              " 'तिन',\n",
              " 'कौन',\n",
              " 'किस',\n",
              " 'संग',\n",
              " 'यही',\n",
              " 'बही',\n",
              " 'उसी',\n",
              " 'मगर',\n",
              " 'कर',\n",
              " 'मे',\n",
              " 'एस',\n",
              " 'उन',\n",
              " 'सो',\n",
              " 'अत']"
            ]
          },
          "metadata": {
            "tags": []
          },
          "execution_count": 36
        }
      ]
    },
    {
      "cell_type": "code",
      "metadata": {
        "id": "dldgwfodFedJ"
      },
      "source": [
        "from numpy import unicode\n",
        "str_temp=\"\"\n",
        "count=0\n",
        "for i in list(fake_news):\n",
        "  count=0\n",
        "  for j in list(fake_news[i]):\n",
        "    for words in j.split():\n",
        "      if unicode(words) not in stopwords:\n",
        "        str_temp+=words\n",
        "        str_temp+=\" \"\n",
        "    fake_news.loc[id[count],i]=str_temp\n",
        "    str_temp=\"\"\n",
        "    count+=1"
      ],
      "execution_count": null,
      "outputs": []
    },
    {
      "cell_type": "code",
      "metadata": {
        "colab": {
          "base_uri": "https://localhost:8080/",
          "height": 198
        },
        "id": "nqe9teBSGwIk",
        "outputId": "bd6d7f36-2749-459d-9487-ad340b46fc83"
      },
      "source": [
        "fake_news.head()"
      ],
      "execution_count": null,
      "outputs": [
        {
          "output_type": "execute_result",
          "data": {
            "text/html": [
              "<div>\n",
              "<style scoped>\n",
              "    .dataframe tbody tr th:only-of-type {\n",
              "        vertical-align: middle;\n",
              "    }\n",
              "\n",
              "    .dataframe tbody tr th {\n",
              "        vertical-align: top;\n",
              "    }\n",
              "\n",
              "    .dataframe thead th {\n",
              "        text-align: right;\n",
              "    }\n",
              "</style>\n",
              "<table border=\"1\" class=\"dataframe\">\n",
              "  <thead>\n",
              "    <tr style=\"text-align: right;\">\n",
              "      <th></th>\n",
              "      <th>short_description</th>\n",
              "    </tr>\n",
              "  </thead>\n",
              "  <tbody>\n",
              "    <tr>\n",
              "      <th>0</th>\n",
              "      <td>बूम पाय इमरान खान भारत सरकार आलोच रह वर्तमान शासन अधिनायकवाद मुस्लिम विरोध पाकिस्तान</td>\n",
              "    </tr>\n",
              "    <tr>\n",
              "      <th>1</th>\n",
              "      <td>सिख समुदाय के लोग हिंद साइन बोर्ड कालिख पोत दिख तस्वीर सेट वीडिय वायरल रह</td>\n",
              "    </tr>\n",
              "    <tr>\n",
              "      <th>2</th>\n",
              "      <td>सोशल मीडिय प्लेटफ़ॉर्म फ़ेसबुक ट्विटर दाव के बड़ संख्य तस्वीर के पोस्ट शेयर किय रह</td>\n",
              "    </tr>\n",
              "    <tr>\n",
              "      <th>3</th>\n",
              "      <td>दाव भाजप के मा सरकार जन के गलत रह</td>\n",
              "    </tr>\n",
              "    <tr>\n",
              "      <th>4</th>\n",
              "      <td>मीडिय आउटलेट्स वायर एजेंस गलत तरीक दाव किय पाकिस्तान के पूर्व राजनयिक बालाकोट मौत</td>\n",
              "    </tr>\n",
              "  </tbody>\n",
              "</table>\n",
              "</div>"
            ],
            "text/plain": [
              "                                                                       short_description\n",
              "0  बूम पाय इमरान खान भारत सरकार आलोच रह वर्तमान शासन अधिनायकवाद मुस्लिम विरोध पाकिस्तान \n",
              "1             सिख समुदाय के लोग हिंद साइन बोर्ड कालिख पोत दिख तस्वीर सेट वीडिय वायरल रह \n",
              "2       सोशल मीडिय प्लेटफ़ॉर्म फ़ेसबुक ट्विटर दाव के बड़ संख्य तस्वीर के पोस्ट शेयर किय रह \n",
              "3                                                     दाव भाजप के मा सरकार जन के गलत रह \n",
              "4     मीडिय आउटलेट्स वायर एजेंस गलत तरीक दाव किय पाकिस्तान के पूर्व राजनयिक बालाकोट मौत "
            ]
          },
          "metadata": {
            "tags": []
          },
          "execution_count": 39
        }
      ]
    },
    {
      "cell_type": "code",
      "metadata": {
        "id": "n6W2nDIoGyzD"
      },
      "source": [
        "from numpy import unicode\n",
        "str_temp=\"\"\n",
        "count=0\n",
        "for i in list(true_news):\n",
        "  count=0\n",
        "  for j in list(true_news[i]):\n",
        "    for words in j.split():\n",
        "      if unicode(words) not in stopwords:\n",
        "        str_temp+=words\n",
        "        str_temp+=\" \"\n",
        "    true_news.loc[id1[count],i]=str_temp\n",
        "    str_temp=\"\"\n",
        "    count+=1"
      ],
      "execution_count": null,
      "outputs": []
    },
    {
      "cell_type": "code",
      "metadata": {
        "colab": {
          "base_uri": "https://localhost:8080/",
          "height": 407
        },
        "id": "8S_8RVOqH2af",
        "outputId": "f95555fa-b5c3-4366-df4b-243e11b4e713"
      },
      "source": [
        "true_news"
      ],
      "execution_count": null,
      "outputs": [
        {
          "output_type": "execute_result",
          "data": {
            "text/html": [
              "<div>\n",
              "<style scoped>\n",
              "    .dataframe tbody tr th:only-of-type {\n",
              "        vertical-align: middle;\n",
              "    }\n",
              "\n",
              "    .dataframe tbody tr th {\n",
              "        vertical-align: top;\n",
              "    }\n",
              "\n",
              "    .dataframe thead th {\n",
              "        text-align: right;\n",
              "    }\n",
              "</style>\n",
              "<table border=\"1\" class=\"dataframe\">\n",
              "  <thead>\n",
              "    <tr style=\"text-align: right;\">\n",
              "      <th></th>\n",
              "      <th>short_description</th>\n",
              "    </tr>\n",
              "  </thead>\n",
              "  <tbody>\n",
              "    <tr>\n",
              "      <th>0</th>\n",
              "      <td>भारत ऑस्ट्रेलिय टेस्ट सिरीज़ ऐतिहासिक जीत दर्ज...</td>\n",
              "    </tr>\n",
              "    <tr>\n",
              "      <th>1</th>\n",
              "      <td>ब्रिस्बेन टेस्ट भारत दीवार कह वाल चेतेश्वर पुज...</td>\n",
              "    </tr>\n",
              "    <tr>\n",
              "      <th>2</th>\n",
              "      <td>पाकिस्ता टीव प्रेजेंटर सैय्यद इक़रारुल हसन अप ...</td>\n",
              "    </tr>\n",
              "    <tr>\n",
              "      <th>3</th>\n",
              "      <td>पूछ जाए दिल्ल पहल गणतंत्र दिवस परेड कह इसक जवा...</td>\n",
              "    </tr>\n",
              "    <tr>\n",
              "      <th>4</th>\n",
              "      <td>वेब सिरीज़ तांडव ले जार विवाद कार्टून</td>\n",
              "    </tr>\n",
              "    <tr>\n",
              "      <th>...</th>\n",
              "      <td>...</td>\n",
              "    </tr>\n",
              "    <tr>\n",
              "      <th>887</th>\n",
              "      <td>चालक कार रोक के बजाय चल जार रख ट्रैफ़िक पुलिसक...</td>\n",
              "    </tr>\n",
              "    <tr>\n",
              "      <th>888</th>\n",
              "      <td>मिसाइल 400 किलोमीटर ज़्याद मार सक</td>\n",
              "    </tr>\n",
              "    <tr>\n",
              "      <th>889</th>\n",
              "      <td>आकर्षण केंद्र वो शक्तिशाल पहलवान जिनक संबंध प्...</td>\n",
              "    </tr>\n",
              "    <tr>\n",
              "      <th>890</th>\n",
              "      <td>बिहार के जातिगत समीकरण बात लंब बीजेप हिंद पहचा...</td>\n",
              "    </tr>\n",
              "    <tr>\n",
              "      <th>891</th>\n",
              "      <td>एनआईए 83 साल के फ़ादर स्टेन स्वाम गिरफ़्तार यू...</td>\n",
              "    </tr>\n",
              "  </tbody>\n",
              "</table>\n",
              "<p>760 rows × 1 columns</p>\n",
              "</div>"
            ],
            "text/plain": [
              "                                     short_description\n",
              "0    भारत ऑस्ट्रेलिय टेस्ट सिरीज़ ऐतिहासिक जीत दर्ज...\n",
              "1    ब्रिस्बेन टेस्ट भारत दीवार कह वाल चेतेश्वर पुज...\n",
              "2    पाकिस्ता टीव प्रेजेंटर सैय्यद इक़रारुल हसन अप ...\n",
              "3    पूछ जाए दिल्ल पहल गणतंत्र दिवस परेड कह इसक जवा...\n",
              "4               वेब सिरीज़ तांडव ले जार विवाद कार्टून \n",
              "..                                                 ...\n",
              "887  चालक कार रोक के बजाय चल जार रख ट्रैफ़िक पुलिसक...\n",
              "888                 मिसाइल 400 किलोमीटर ज़्याद मार सक \n",
              "889  आकर्षण केंद्र वो शक्तिशाल पहलवान जिनक संबंध प्...\n",
              "890  बिहार के जातिगत समीकरण बात लंब बीजेप हिंद पहचा...\n",
              "891  एनआईए 83 साल के फ़ादर स्टेन स्वाम गिरफ़्तार यू...\n",
              "\n",
              "[760 rows x 1 columns]"
            ]
          },
          "metadata": {
            "tags": []
          },
          "execution_count": 58
        }
      ]
    },
    {
      "cell_type": "code",
      "metadata": {
        "id": "_kOYV7Ry9LuK"
      },
      "source": [
        "true_news.to_csv('true_news.csv')\n",
        "fake_news.to_csv('fake_news.csv')"
      ],
      "execution_count": null,
      "outputs": []
    },
    {
      "cell_type": "code",
      "metadata": {
        "id": "SeR96D9M_o7Y",
        "cellView": "form",
        "colab": {
          "base_uri": "https://localhost:8080/"
        },
        "outputId": "b583ee05-8e72-4f52-a55d-284f562fe954"
      },
      "source": [
        "#@title other useful code\n",
        "len(true_news), len(fake_news)\n",
        "fake_news = fake_news.head(len(true_news))\n",
        "len(true_news), len(fake_news)\n",
        "\n",
        "# assign labels\n",
        "fake_news['label'] = 1\n",
        "true_news['label'] = 0\n",
        "\n",
        "# join true and false dataset\n",
        "news = pd.concat([fake_news, true_news])\n",
        "from sklearn.utils import shuffle\n",
        "news = shuffle(news)"
      ],
      "execution_count": null,
      "outputs": [
        {
          "output_type": "stream",
          "text": [
            "/usr/local/lib/python3.7/dist-packages/ipykernel_launcher.py:7: SettingWithCopyWarning: \n",
            "A value is trying to be set on a copy of a slice from a DataFrame.\n",
            "Try using .loc[row_indexer,col_indexer] = value instead\n",
            "\n",
            "See the caveats in the documentation: https://pandas.pydata.org/pandas-docs/stable/user_guide/indexing.html#returning-a-view-versus-a-copy\n",
            "  import sys\n"
          ],
          "name": "stderr"
        }
      ]
    },
    {
      "cell_type": "code",
      "metadata": {
        "id": "tUlg-NGw6gjF"
      },
      "source": [
        ""
      ],
      "execution_count": null,
      "outputs": []
    }
  ]
}